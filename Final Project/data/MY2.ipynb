{
 "cells": [
  {
   "cell_type": "code",
   "execution_count": 1,
   "metadata": {},
   "outputs": [],
   "source": [
    "# import all the necesssary packages \n",
    "import csv\n",
    "import glob\n",
    "import os\n",
    "import os.path\n",
    "from subprocess import call"
   ]
  },
  {
   "cell_type": "code",
   "execution_count": 12,
   "metadata": {},
   "outputs": [],
   "source": [
    "\n",
    "# we arr extracing the image from videos\n",
    "\n",
    "\n",
    "def extract_files():\n",
    "    data_file = []\n",
    "    folders = ['train', 'test']\n",
    "\n",
    "    for folder in folders:\n",
    "        class_folders = glob.glob(os.path.join(folder, '*'))\n",
    "\n",
    "        for vid_class in class_folders:\n",
    "            class_files = glob.glob(os.path.join(vid_class, '*.avi'))\n",
    "\n",
    "            for video_path in class_files:\n",
    "                # Get the parts of the file.\n",
    "                video_parts = get_video_parts(video_path)\n",
    "\n",
    "                train_or_test, classname, filename_no_ext, filename = video_parts\n",
    "\n",
    "                # Only extract if we haven't done it yet. Otherwise, just get\n",
    "                # the info.\n",
    "                if not check_already_extracted(video_parts):\n",
    "                    # Now extract it.\n",
    "                    src = os.path.join(train_or_test, classname, filename)\n",
    "                    dest = os.path.join(train_or_test, classname,\n",
    "                        filename_no_ext + '-%04d.jpg')\n",
    "                    call([\"ffmpeg\", \"-i\", src, dest])\n",
    "\n",
    "                # Now get how many frames it is.\n",
    "                nb_frames = get_nb_frames_for_video(video_parts)\n",
    "\n",
    "                data_file.append([train_or_test, classname, filename_no_ext, nb_frames])\n",
    "\n",
    "                print(\"Generated %d frames for %s\" % (nb_frames, filename_no_ext))\n",
    "\n",
    "    with open('data_file.csv', 'w', newline='') as fout:\n",
    "        writer = csv.writer(fout)\n",
    "\n",
    "        writer.writerows(data_file)\n",
    "\n",
    "    print(\"Extracted and wrote %d video files.\" % (len(data_file)))\n"
   ]
  },
  {
   "cell_type": "code",
   "execution_count": 13,
   "metadata": {},
   "outputs": [],
   "source": [
    "def get_nb_frames_for_video(video_parts):\n",
    "\n",
    "    train_or_test, classname, filename_no_ext, _ = video_parts\n",
    "    generated_files = glob.glob(os.path.join(train_or_test, classname,\n",
    "                                filename_no_ext + '*.jpg'))\n",
    "    return len(generated_files)"
   ]
  },
  {
   "cell_type": "code",
   "execution_count": 14,
   "metadata": {},
   "outputs": [],
   "source": [
    "def get_video_parts(video_path):\n",
    "    parts = video_path.split(os.path.sep)\n",
    "    filename = parts[2]\n",
    "    filename_no_ext = filename.split('.')[0]\n",
    "    classname = parts[1]\n",
    "    train_or_test = parts[0]\n",
    "\n",
    "    return train_or_test, classname, filename_no_ext, filename"
   ]
  },
  {
   "cell_type": "code",
   "execution_count": 15,
   "metadata": {},
   "outputs": [],
   "source": [
    "def check_already_extracted(video_parts):\n",
    "    train_or_test, classname, filename_no_ext, _ = video_parts\n",
    "    return bool(os.path.exists(os.path.join(train_or_test, classname,\n",
    "                               filename_no_ext + '-0001.jpg')))"
   ]
  },
  {
   "cell_type": "code",
   "execution_count": 16,
   "metadata": {},
   "outputs": [
    {
     "name": "stdout",
     "output_type": "stream",
     "text": [
      "Generated 121 frames for v_ApplyEyeMakeup_g08_c01\n",
      "Generated 118 frames for v_ApplyEyeMakeup_g08_c02\n",
      "Generated 147 frames for v_ApplyEyeMakeup_g08_c03\n",
      "Generated 165 frames for v_ApplyEyeMakeup_g01_c01\n",
      "Generated 124 frames for v_ApplyEyeMakeup_g01_c02\n",
      "Generated 260 frames for v_ApplyEyeMakeup_g01_c03\n",
      "[['train', 'ApplyEyeMakeup', 'v_ApplyEyeMakeup_g08_c01', 121], ['train', 'ApplyEyeMakeup', 'v_ApplyEyeMakeup_g08_c02', 118], ['train', 'ApplyEyeMakeup', 'v_ApplyEyeMakeup_g08_c03', 147], ['test', 'ApplyEyeMakeup', 'v_ApplyEyeMakeup_g01_c01', 165], ['test', 'ApplyEyeMakeup', 'v_ApplyEyeMakeup_g01_c02', 124], ['test', 'ApplyEyeMakeup', 'v_ApplyEyeMakeup_g01_c03', 260]]\n",
      "Extracted and wrote 6 video files.\n"
     ]
    }
   ],
   "source": [
    "\n",
    "def main():\n",
    "\n",
    "    extract_files()\n",
    "\n",
    "if __name__ == '__main__':\n",
    "    main()"
   ]
  },
  {
   "cell_type": "code",
   "execution_count": null,
   "metadata": {},
   "outputs": [],
   "source": []
  },
  {
   "cell_type": "code",
   "execution_count": null,
   "metadata": {},
   "outputs": [],
   "source": []
  },
  {
   "cell_type": "code",
   "execution_count": null,
   "metadata": {},
   "outputs": [],
   "source": []
  },
  {
   "cell_type": "code",
   "execution_count": null,
   "metadata": {},
   "outputs": [],
   "source": []
  },
  {
   "cell_type": "code",
   "execution_count": null,
   "metadata": {},
   "outputs": [],
   "source": []
  },
  {
   "cell_type": "code",
   "execution_count": null,
   "metadata": {},
   "outputs": [],
   "source": []
  },
  {
   "cell_type": "code",
   "execution_count": null,
   "metadata": {},
   "outputs": [],
   "source": []
  },
  {
   "cell_type": "code",
   "execution_count": null,
   "metadata": {},
   "outputs": [],
   "source": []
  },
  {
   "cell_type": "code",
   "execution_count": 83,
   "metadata": {},
   "outputs": [],
   "source": [
    "aa= os.path.join(\"foo\", \"bar\", \"baz\")"
   ]
  },
  {
   "cell_type": "code",
   "execution_count": 85,
   "metadata": {},
   "outputs": [
    {
     "data": {
      "text/plain": [
       "'foo\\\\bar\\\\baz'"
      ]
     },
     "execution_count": 85,
     "metadata": {},
     "output_type": "execute_result"
    }
   ],
   "source": [
    "aa"
   ]
  },
  {
   "cell_type": "code",
   "execution_count": 86,
   "metadata": {},
   "outputs": [
    {
     "data": {
      "text/plain": [
       "['foo', 'bar', 'baz']"
      ]
     },
     "execution_count": 86,
     "metadata": {},
     "output_type": "execute_result"
    }
   ],
   "source": [
    "aa.split(os.path.sep)"
   ]
  }
 ],
 "metadata": {
  "kernelspec": {
   "display_name": "Python 3",
   "language": "python",
   "name": "python3"
  },
  "language_info": {
   "codemirror_mode": {
    "name": "ipython",
    "version": 3
   },
   "file_extension": ".py",
   "mimetype": "text/x-python",
   "name": "python",
   "nbconvert_exporter": "python",
   "pygments_lexer": "ipython3",
   "version": "3.5.2"
  }
 },
 "nbformat": 4,
 "nbformat_minor": 2
}
