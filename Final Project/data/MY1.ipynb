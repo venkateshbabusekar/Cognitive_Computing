{
 "cells": [
  {
   "cell_type": "code",
   "execution_count": null,
   "metadata": {},
   "outputs": [],
   "source": [
    "# Importing all the necessary package "
   ]
  },
  {
   "cell_type": "code",
   "execution_count": null,
   "metadata": {},
   "outputs": [],
   "source": [
    "import os\n",
    "import os.path"
   ]
  },
  {
   "cell_type": "code",
   "execution_count": 2,
   "metadata": {},
   "outputs": [],
   "source": [
    "# reading the text file data \n",
    "def get_train_test_lists(version='01'):\n",
    "\n",
    "    # Get our files based on version.\n",
    "    test_file = os.path.join('ucfTrainTestlist', 'testlist' + version + '.txt')\n",
    "    train_file = os.path.join('ucfTrainTestlist', 'trainlist' + version + '.txt')\n",
    "\n",
    "    # Build the test list.\n",
    "    with open(test_file) as fin:\n",
    "        test_list = [row.strip() for row in list(fin)]\n",
    "\n",
    "    # Build the train list. Extra step to remove the class index.\n",
    "    with open(train_file) as fin:\n",
    "        train_list = [row.strip() for row in list(fin)]\n",
    "        train_list = [row.split(' ')[0] for row in train_list]\n",
    "\n",
    "    # Set the groups in a dictionary.\n",
    "    file_groups = {\n",
    "        'train': train_list,\n",
    "        'test': test_list,\n",
    "\n",
    "    }\n",
    "\n",
    "\n",
    "    return file_groups"
   ]
  },
  {
   "cell_type": "code",
   "execution_count": 12,
   "metadata": {},
   "outputs": [],
   "source": [
    "newpath1=\"D:\\\\CognitiveComputing\\\\data\\\\UCF-101\"\n",
    "# ceating folders to move the respective files \n",
    "def move_files(file_groups):\n",
    "\n",
    "    # Do each of our groups.\n",
    "    for group, videos in file_groups.items():\n",
    "\n",
    "        # Do each of our videos.\n",
    "        for video in videos:\n",
    "\n",
    "            # Get the parts.\n",
    "            \n",
    "#             print(video)\n",
    "            parts = video.split(\"/\")\n",
    "#             print(\"***********************\")\n",
    "#             print(parts)\n",
    "            classname = parts[0]\n",
    "#             print(classname)\n",
    "            filename = parts[1]\n",
    "#             print(filename)\n",
    "\n",
    "            # Check if this class exists.\n",
    "            if not os.path.exists(os.path.join(group, classname)):\n",
    "                print(\"Creating folder for %s/%s\" % (group, classname))\n",
    "                os.makedirs(os.path.join(group, classname))\n",
    "\n",
    "#             # Check if we have already moved this file, or at least that it\n",
    "#             # exists to move.\n",
    "#             if not os.path.exists(filename):\n",
    "#                  print(\"Can't find %s to move. Skipping.\" % (filename))\n",
    "#                  continue\n",
    "\n",
    "            # Move it.\n",
    "            newpath2= os.path.join(newpath1, classname)\n",
    "            newpath3= os.path.join(newpath2, filename)\n",
    "        \n",
    "#             print(newpath3)\n",
    "            dest = os.path.join(group, classname, filename)\n",
    "            print(\"Moving %s to %s\" % (newpath3, dest))\n",
    "            os.rename(newpath3, dest)\n",
    "\n",
    "    print(\"Done.\")"
   ]
  },
  {
   "cell_type": "code",
   "execution_count": 13,
   "metadata": {},
   "outputs": [
    {
     "name": "stdout",
     "output_type": "stream",
     "text": [
      "Creating folder for test/ApplyEyeMakeup\n",
      "Moving D:\\CognitiveComputing\\data\\UCF-101\\ApplyEyeMakeup\\v_ApplyEyeMakeup_g01_c01.avi to test\\ApplyEyeMakeup\\v_ApplyEyeMakeup_g01_c01.avi\n",
      "Moving D:\\CognitiveComputing\\data\\UCF-101\\ApplyEyeMakeup\\v_ApplyEyeMakeup_g01_c02.avi to test\\ApplyEyeMakeup\\v_ApplyEyeMakeup_g01_c02.avi\n",
      "Moving D:\\CognitiveComputing\\data\\UCF-101\\ApplyEyeMakeup\\v_ApplyEyeMakeup_g01_c03.avi to test\\ApplyEyeMakeup\\v_ApplyEyeMakeup_g01_c03.avi\n",
      "Creating folder for train/ApplyEyeMakeup\n",
      "Moving D:\\CognitiveComputing\\data\\UCF-101\\ApplyEyeMakeup\\v_ApplyEyeMakeup_g08_c01.avi to train\\ApplyEyeMakeup\\v_ApplyEyeMakeup_g08_c01.avi\n",
      "Moving D:\\CognitiveComputing\\data\\UCF-101\\ApplyEyeMakeup\\v_ApplyEyeMakeup_g08_c02.avi to train\\ApplyEyeMakeup\\v_ApplyEyeMakeup_g08_c02.avi\n",
      "Moving D:\\CognitiveComputing\\data\\UCF-101\\ApplyEyeMakeup\\v_ApplyEyeMakeup_g08_c03.avi to train\\ApplyEyeMakeup\\v_ApplyEyeMakeup_g08_c03.avi\n",
      "Done.\n"
     ]
    }
   ],
   "source": [
    "def main():\n",
    "\n",
    "    # Get the videos in groups so we can move them.\n",
    "    group_lists = get_train_test_lists()\n",
    "\n",
    "    # Move the files.\n",
    "    move_files(group_lists)\n",
    "\n",
    "if __name__ == '__main__':\n",
    "    main()"
   ]
  },
  {
   "cell_type": "code",
   "execution_count": null,
   "metadata": {},
   "outputs": [],
   "source": []
  },
  {
   "cell_type": "code",
   "execution_count": null,
   "metadata": {},
   "outputs": [],
   "source": []
  },
  {
   "cell_type": "code",
   "execution_count": null,
   "metadata": {},
   "outputs": [],
   "source": []
  }
 ],
 "metadata": {
  "kernelspec": {
   "display_name": "Python 3",
   "language": "python",
   "name": "python3"
  },
  "language_info": {
   "codemirror_mode": {
    "name": "ipython",
    "version": 3
   },
   "file_extension": ".py",
   "mimetype": "text/x-python",
   "name": "python",
   "nbconvert_exporter": "python",
   "pygments_lexer": "ipython3",
   "version": "3.5.2"
  }
 },
 "nbformat": 4,
 "nbformat_minor": 2
}
