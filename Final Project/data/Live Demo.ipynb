{
 "cells": [
  {
   "cell_type": "code",
   "execution_count": 3,
   "metadata": {},
   "outputs": [],
   "source": [
    "import csv\n",
    "import glob\n",
    "import os\n",
    "import os.path\n",
    "from subprocess import call"
   ]
  },
  {
   "cell_type": "code",
   "execution_count": 10,
   "metadata": {},
   "outputs": [
    {
     "name": "stdout",
     "output_type": "stream",
     "text": [
      "Generated 20135 frames for WARM N GLITTERY THANKSGIVING MAKEUP TUTORIAL _ Iluvsarahii\n",
      "Extracted and wrote 1 video files.\n"
     ]
    }
   ],
   "source": [
    "\n",
    "import csv\n",
    "import glob\n",
    "import os\n",
    "import os.path\n",
    "from subprocess import call\n",
    "\n",
    "def extract_files():\n",
    "\n",
    "    data_file = []\n",
    "    folders = ['youtubevideo']\n",
    "\n",
    "    for folder in folders:\n",
    "        class_folders = glob.glob(os.path.join(folder, '*'))\n",
    "\n",
    "#         for vid_class in class_folders:\n",
    "#             class_files = glob.glob(os.path.join(vid_class, '*.avi'))\n",
    "\n",
    "        for video_path in class_folders:\n",
    "            # Get the parts of the file.\n",
    "            video_parts = get_video_parts(video_path)\n",
    "\n",
    "            youtubevideo, filename_no_ext, filename = video_parts\n",
    "\n",
    "            # Only extract if we haven't done it yet. Otherwise, just get\n",
    "            # the info.\n",
    "            if not check_already_extracted(video_parts):\n",
    "                # Now extract it.\n",
    "                src = os.path.join(youtubevideo, filename)\n",
    "                dest = os.path.join(youtubevideo, filename_no_ext + '-%04d.jpg')\n",
    "                call([\"ffmpeg\", \"-i\", src, dest])\n",
    "\n",
    "            # Now get how many frames it is.\n",
    "            nb_frames = get_nb_frames_for_video(video_parts)\n",
    "\n",
    "            data_file.append([youtubevideo, filename_no_ext, nb_frames])\n",
    "\n",
    "            print(\"Generated %d frames for %s\" % (nb_frames, filename_no_ext))\n",
    "\n",
    "    with open('youtubevideo.csv', 'w') as fout:\n",
    "        writer = csv.writer(fout)\n",
    "        writer.writerows(data_file)\n",
    "\n",
    "    print(\"Extracted and wrote %d video files.\" % (len(data_file)))\n",
    "\n",
    "def get_nb_frames_for_video(video_parts):\n",
    "    \"\"\"Given video parts of an (assumed) already extracted video, return\n",
    "    the number of frames that were extracted.\"\"\"\n",
    "    youtubevideo, filename_no_ext, _ = video_parts\n",
    "    generated_files = glob.glob(os.path.join(youtubevideo,filename_no_ext + '*.jpg'))\n",
    "    return len(generated_files)\n",
    "\n",
    "def get_video_parts(video_path):\n",
    "    \"\"\"Given a full path to a video, return its parts.\"\"\"\n",
    "    parts = video_path.split(os.path.sep)\n",
    "    filename = parts[1]\n",
    "    filename_no_ext = filename.split('.')[0]\n",
    "    youtubevideo = parts[0]\n",
    "\n",
    "    return youtubevideo, filename_no_ext, filename\n",
    "\n",
    "def check_already_extracted(video_parts):\n",
    "    \"\"\"Check to see if we created the -0001 frame of this file.\"\"\"\n",
    "    youtubevideo, filename_no_ext, _ = video_parts\n",
    "    return bool(os.path.exists(os.path.join(youtubevideo,filename_no_ext + '-0001.jpg')))\n",
    "\n",
    "def main():\n",
    "\n",
    "    extract_files()\n",
    "\n",
    "if __name__ == '__main__':\n",
    "    main()\n"
   ]
  },
  {
   "cell_type": "code",
   "execution_count": null,
   "metadata": {},
   "outputs": [],
   "source": []
  },
  {
   "cell_type": "code",
   "execution_count": null,
   "metadata": {},
   "outputs": [],
   "source": []
  },
  {
   "cell_type": "code",
   "execution_count": null,
   "metadata": {},
   "outputs": [],
   "source": []
  },
  {
   "cell_type": "code",
   "execution_count": null,
   "metadata": {},
   "outputs": [],
   "source": []
  },
  {
   "cell_type": "code",
   "execution_count": null,
   "metadata": {},
   "outputs": [],
   "source": []
  }
 ],
 "metadata": {
  "kernelspec": {
   "display_name": "Python 3",
   "language": "python",
   "name": "python3"
  },
  "language_info": {
   "codemirror_mode": {
    "name": "ipython",
    "version": 3
   },
   "file_extension": ".py",
   "mimetype": "text/x-python",
   "name": "python",
   "nbconvert_exporter": "python",
   "pygments_lexer": "ipython3",
   "version": "3.5.2"
  }
 },
 "nbformat": 4,
 "nbformat_minor": 2
}
